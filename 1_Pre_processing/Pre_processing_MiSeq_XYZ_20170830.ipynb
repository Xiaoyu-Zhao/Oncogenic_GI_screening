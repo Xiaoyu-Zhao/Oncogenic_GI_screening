{
 "cells": [
  {
   "cell_type": "code",
   "execution_count": 10,
   "metadata": {
    "collapsed": true
   },
   "outputs": [],
   "source": [
    "import sys\n",
    "sys.path.insert(1,'/Users/xiaoyuzhao/Dropbox/code/bc')"
   ]
  },
  {
   "cell_type": "code",
   "execution_count": 11,
   "metadata": {
    "collapsed": true
   },
   "outputs": [],
   "source": [
    "directory = \"~/volumes/xiaoyu/MiSeq_XYZ_2070830/\" #directory where files are read and saved\n",
    "f_gzipped_fastqfile = \"S01_S1_R1_001.fastq.gz\" #The forward reads, gzip file\n",
    "r_gzipped_fastqfile = \"S01_S1_R2_001.fastq.gz\" #The reverse reads, gzip file\n",
    "q = \"fastq\" #the type of fastq file coming off of the sequencer, what format are the quality scores?\n",
    "f_seqtag_length = 9 #the length of the sequencing tag on the first read (UMI1)\n",
    "r_seqtag_length = 9 #the length of the sequencing tag on the second read (UMI2)\n",
    "f_multitag_length = 6 #the length of the multiplexing tag on the first read\n",
    "r_multitag_length = 6 #the length of the multiplexing tag on the second read\n",
    "f_lintag_length = 32 #the length of the lineage tag on the first read (first barcode)\n",
    "r_lintag_length = 30 #the length of the lineage tag on the second read (second barcode)\n",
    "f_spacer_length = 24 #distance to first barcode in forward read, not including the multitag and the seqtag\n",
    "r_spacer_length = 33 #distance second barcode in reverse read, not including the multitag and the seqtag\n",
    "min_qs = 30 #the minimum avareage quality score for both lineage tags\n",
    "lintag_grep_filter1 ='\\D*?(.CCG|A.CG|AC.G|ACC.)\\D{18,22}' #first barcode\n",
    "lintag_grep_filter2 ='\\D*?(.AAC|A.AC|AA.C|AAA.)\\D{18,22}' #second barcode\n",
    "clip_ends = 0 #logical of whether or not to clip the front and back ends off of lintag1 and lintag2\n",
    "lintag1_front_clipper = '(.CCG|A.CG|AC.G|ACC.)' #only report lintag1 after this sequence\n",
    "lintag2_front_clipper = '(.AAC|A.AC|AA.C|AAA.)' #only report lintag2 after this sequence\n",
    "#lintag1_rear_clipper = '(.TGT|T.GT|TT.T|TTG.)' #only report lintag1 before this sequence, this must be the REVERSE of the true sequence\n",
    "#lintag2_rear_clipper = '(.AAA|C.AA|CA.A|CAA.)' #only report lintag2 before this sequence, this must be the REVERSE of the true sequence\n",
    "multitags = [\"ACAGTGTATATA\", \"ACAGTGGAGACG\", \"TGACCATATATA\", \"TGACCAGAGACG\", \"GCCAATTATATA\", \"GCCAATCGCTCT\", \n",
    "             \"GCCAATGAGACG\", \"TGACCACGCTCT\"] #concatenated multiplexing tags from the first and second reads that uniquely identify a sample, currently must have 2 or more multitags\n",
    "write_multitags = True #True will write multitags for all reads, otherwise only multitags for unmatched reads will be written\n",
    "merged_output = False #True will merge double barcodes into one barcode and treat these as single barcodes\n",
    "cores = 12 #the number of processors\n",
    "frequency_cutoff = 1 #clusters less than this number of reads under this cutoff will not be reported by bartender"
   ]
  },
  {
   "cell_type": "code",
   "execution_count": 12,
   "metadata": {},
   "outputs": [
    {
     "name": "stdout",
     "output_type": "stream",
     "text": [
      "Loading S01_S1_R1_001.fastq.gz and S01_S1_R2_001.fastq.gz and parsing\n",
      "Saving the combined forward and reverse sequencing tags as seqtag.txt\n",
      "Saving the combined forward and reverse multiplexing tags  as multitag.txt\n",
      "Saving the first lineage tag as lintag1.txt\n",
      "Saving the first lineage tag as lintag2.txt\n",
      "12687481 out of 14011145 reads passed quality filters\n",
      "2223495 out of 14011145 did not match the barcode pattern\n",
      "10463986 out of 14011145 reads passed grep and quality filters\n",
      "602914 out of 14011145 reads passed grep and quality filters but did not match a multitag\n"
     ]
    }
   ],
   "source": [
    "import BC\n",
    "import BC_xiaoyu\n",
    "BC_xiaoyu.count(directory, f_gzipped_fastqfile, r_gzipped_fastqfile,\n",
    "      q = \"fastq\",\n",
    "      f_seqtag_length = 9,\n",
    "      r_seqtag_length = 9,\n",
    "      f_multitag_length = 6,\n",
    "      r_multitag_length = 6,\n",
    "      f_lintag_length = 32,\n",
    "      r_lintag_length = 30, \n",
    "      f_spacer_length = 24, #distance to first barcode in forward read (ignoring the length the thie multitag and the seqtag)\n",
    "      r_spacer_length = 33, #distance second barcode in reverse read (ignoring the length the thie multitag and the seqtag)\n",
    "      min_qs = 30, #the minimum avareage quality score for both lineage tags\n",
    "      lintag_grep_filter1 = lintag_grep_filter1, #first barcode\n",
    "      lintag_grep_filter2 = lintag_grep_filter2, #second barcode\n",
    "      clip_ends = 1, #logical of whether or not to clip the front and back ends off of lintag1 and lintag2\n",
    "      lintag1_front_clipper = lintag1_front_clipper, #only report lintag1 after this sequence\n",
    "      lintag2_front_clipper = lintag2_front_clipper, #only report lintag2 after this sequence\n",
    "      #lintag1_rear_clipper = lintag1_rear_clipper, #only report lintag1 before this sequence, this must be the COMPLIMENT of the true sequence\n",
    "      #lintag2_rear_clipper = lintag2_rear_clipper, #only report lintag2 before this sequence, this must be the COMPLIMENT of the true sequence\n",
    "      multitags = multitags, #concatenated multiplexing tags from the first and second reads that uniquely identify a sample, currently must have 2 or more multitags\n",
    "      write_multitags = True, #True will write multitags for all reads, otherwise only multitags for unmatched reads will be written\n",
    "      merged_output = False, #True will merge double barcodes into one barcode and treat these as single barcodes\n",
    "      cores = 12, #the number of processors\n",
    "      frequency_cutoff = 1) #clusters less than this number of reads under this cutoff will not be reported by bartendder"
   ]
  },
  {
   "cell_type": "code",
   "execution_count": null,
   "metadata": {
    "collapsed": true
   },
   "outputs": [],
   "source": []
  }
 ],
 "metadata": {
  "kernelspec": {
   "display_name": "Python 2",
   "language": "python",
   "name": "python2"
  },
  "language_info": {
   "codemirror_mode": {
    "name": "ipython",
    "version": 2
   },
   "file_extension": ".py",
   "mimetype": "text/x-python",
   "name": "python",
   "nbconvert_exporter": "python",
   "pygments_lexer": "ipython2",
   "version": "2.7.14"
  }
 },
 "nbformat": 4,
 "nbformat_minor": 1
}
