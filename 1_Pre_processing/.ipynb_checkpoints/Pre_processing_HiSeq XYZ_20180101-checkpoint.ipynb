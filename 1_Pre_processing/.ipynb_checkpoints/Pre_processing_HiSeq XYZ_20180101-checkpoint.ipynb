{
 "cells": [
  {
   "cell_type": "code",
   "execution_count": 4,
   "metadata": {},
   "outputs": [],
   "source": [
    "import sys\n",
    "sys.path.insert(1,'/Users/xiaoyuzhao/Dropbox/code/')"
   ]
  },
  {
   "cell_type": "code",
   "execution_count": 5,
   "metadata": {},
   "outputs": [],
   "source": [
    "directory = \"~/volumes/xiaoyu/HiSeq_XYZ_20180101/\"#directory where files are read and saved\n",
    "f_gzipped_fastqfile = \"XYZ1_USPD16083911_HHHJMBBXX_L7_1.fq.gz\" #The forward reads, gzip file\n",
    "r_gzipped_fastqfile = \"XYZ1_USPD16083911_HHHJMBBXX_L7_2.fq.gz\" #The reverse reads, gzip file\n",
    "q = \"fastq\" #the type of fastq file coming off of the sequencer, what format are the quality scores?\n",
    "f_seqtag_length = 9 #the length of the sequencing tag on the first read (UMI1)\n",
    "r_seqtag_length = 9 #the length of the sequencing tag on the second read (UMI2)\n",
    "f_multitag_length = 6 #the length of the multiplexing tag on the first read\n",
    "r_multitag_length = 6 #the length of the multiplexing tag on the second read\n",
    "f_lintag_length = 32 #the length of the lineage tag on the first read (first barcode)\n",
    "r_lintag_length = 30 #the length of the lineage tag on the second read (second barcode)\n",
    "f_spacer_length = 24 #distance to first barcode in forward read, not including the multitag and the seqtag\n",
    "r_spacer_length = 33 #distance second barcode in reverse read, not including the multitag and the seqtag\n",
    "min_qs = 30 #the minimum avareage quality score for both lineage tags\n",
    "lintag_grep_filter1 ='\\D*?(.CCG|A.CG|AC.G|ACC.)\\D{19,21}?(.TTT|G.TT|GT.T|GTT.)\\D*' #first barcode\n",
    "lintag_grep_filter2 ='\\D*?(.AAC|A.AC|AA.C|AAA.)\\D{19,21}?(.AAA|C.AA|CA.A|CAA.)\\D*' #second barcode\n",
    "clip_ends = 0 #logical of whether or not to clip the front and back ends off of lintag1 and lintag2\n",
    "lintag1_front_clipper = '(.CCG|A.CG|AC.G|ACC.)' #only report lintag1 after this sequence\n",
    "lintag2_front_clipper = '(.AAC|A.AC|AA.C|AAA.)' #only report lintag2 after this sequence\n",
    "lintag1_rear_clipper = '(.TTG|T.TG|TT.G|TTT.)' #only report lintag1 before this sequence, this must be the REVERSE of the true sequence\n",
    "lintag2_rear_clipper = '(.AAC|A.AC|AA.C|AAA.)' #only report lintag2 before this sequence, this must be the REVERSE of the true sequence\n",
    "multitags = [\"GGCTACGAGACG\", \"GGCTACTATATA\", \"GGCTACCGCTCT\", \"GGCTACATACTG\", \"GGCTACACTAGC\", \"GGCTACTGAGCT\", \"GCCAATTATATA\",\"TAGCTTTATATA\",\"TAGCTTCGCTCT\",\"TAGCTTGAGACG\",\"TAGCTTATACTG\",\"TAGCTTACTAGC\",\"TGACCACGCTCT\",\"TAGCTTTGAGCT\"] #concatenated multiplexing tags from the first and second reads that uniquely identify a sample, currently must have 2 or more multitags\n",
    "write_multitags = True #True will write multitags for all reads, otherwise only multitags for unmatched reads will be written\n",
    "merged_output = False #True will merge double barcodes into one barcode and treat these as single barcodes\n",
    "cores = 12 #the number of processors\n",
    "frequency_cutoff = 1 #clusters less than this number of reads under this cutoff will not be reported by bartender"
   ]
  },
  {
   "cell_type": "code",
   "execution_count": 6,
   "metadata": {},
   "outputs": [
    {
     "ename": "OSError",
     "evalue": "[Errno 2] No such file or directory: '~/volumes/xiaoyu/XYZ1/'",
     "output_type": "error",
     "traceback": [
      "\u001b[0;31m---------------------------------------------------------------------------\u001b[0m",
      "\u001b[0;31mOSError\u001b[0m                                   Traceback (most recent call last)",
      "\u001b[0;32m<ipython-input-6-5a312dad040c>\u001b[0m in \u001b[0;36m<module>\u001b[0;34m()\u001b[0m\n\u001b[1;32m     22\u001b[0m       \u001b[0mmerged_output\u001b[0m \u001b[0;34m=\u001b[0m \u001b[0mFalse\u001b[0m\u001b[0;34m,\u001b[0m \u001b[0;31m#True will merge double barcodes into one barcode and treat these as single barcodes\u001b[0m\u001b[0;34m\u001b[0m\u001b[0m\n\u001b[1;32m     23\u001b[0m       \u001b[0mcores\u001b[0m \u001b[0;34m=\u001b[0m \u001b[0;36m12\u001b[0m\u001b[0;34m,\u001b[0m \u001b[0;31m#the number of processors\u001b[0m\u001b[0;34m\u001b[0m\u001b[0m\n\u001b[0;32m---> 24\u001b[0;31m       frequency_cutoff = 1) #clusters less than this number of reads under this cutoff will not be reported by bartendder\n\u001b[0m",
      "\u001b[0;32m/Users/xiaoyuzhao/Dropbox/code/BC.pyc\u001b[0m in \u001b[0;36mcount\u001b[0;34m(directory, f_gzipped_fastqfile, r_gzipped_fastqfile, q, f_seqtag_length, r_seqtag_length, f_multitag_length, r_multitag_length, f_lintag_length, r_lintag_length, f_spacer_length, r_spacer_length, min_qs, lintag_grep_filter1, lintag_grep_filter2, clip_ends, lintag1_front_clipper, lintag2_front_clipper, lintag1_rear_clipper, lintag2_rear_clipper, multitags, write_multitags, merged_output, cores, frequency_cutoff)\u001b[0m\n\u001b[1;32m    161\u001b[0m             \u001b[0mlintag1_rear_clipper\u001b[0m \u001b[0;34m=\u001b[0m \u001b[0mlintag1_rear_clipper\u001b[0m\u001b[0;34m,\u001b[0m\u001b[0;34m\u001b[0m\u001b[0m\n\u001b[1;32m    162\u001b[0m             \u001b[0mlintag2_rear_clipper\u001b[0m \u001b[0;34m=\u001b[0m \u001b[0mlintag2_rear_clipper\u001b[0m\u001b[0;34m,\u001b[0m \u001b[0mmultitags\u001b[0m \u001b[0;34m=\u001b[0m \u001b[0mmultitags\u001b[0m\u001b[0;34m,\u001b[0m\u001b[0;34m\u001b[0m\u001b[0m\n\u001b[0;32m--> 163\u001b[0;31m             write_multitags = write_multitags)\n\u001b[0m\u001b[1;32m    164\u001b[0m             \u001b[0;31m#merge barcodes for bartender input\u001b[0m\u001b[0;34m\u001b[0m\u001b[0;34m\u001b[0m\u001b[0m\n\u001b[1;32m    165\u001b[0m             \u001b[0;32mfor\u001b[0m \u001b[0mi\u001b[0m \u001b[0;32min\u001b[0m \u001b[0mmultitags\u001b[0m\u001b[0;34m:\u001b[0m\u001b[0;34m\u001b[0m\u001b[0m\n",
      "\u001b[0;32m/Users/xiaoyuzhao/Dropbox/code/BC.pyc\u001b[0m in \u001b[0;36mparse_fastq_by_multitag\u001b[0;34m(directory, f_gzipped_fastqfile, r_gzipped_fastqfile, q, f_seqtag_length, r_seqtag_length, f_multitag_length, r_multitag_length, f_lintag_length, r_lintag_length, f_spacer_length, r_spacer_length, min_qs, lintag_grep_filter1, lintag_grep_filter2, clip_ends, lintag1_front_clipper, lintag2_front_clipper, lintag1_rear_clipper, lintag2_rear_clipper, multitags, write_multitags)\u001b[0m\n\u001b[1;32m    452\u001b[0m         \u001b[0;32mimport\u001b[0m \u001b[0mre\u001b[0m\u001b[0;34m\u001b[0m\u001b[0m\n\u001b[1;32m    453\u001b[0m         \u001b[0;32mfrom\u001b[0m \u001b[0mitertools\u001b[0m \u001b[0;32mimport\u001b[0m \u001b[0mizip\u001b[0m\u001b[0;34m\u001b[0m\u001b[0m\n\u001b[0;32m--> 454\u001b[0;31m         \u001b[0mos\u001b[0m\u001b[0;34m.\u001b[0m\u001b[0mchdir\u001b[0m\u001b[0;34m(\u001b[0m\u001b[0mdirectory\u001b[0m\u001b[0;34m)\u001b[0m\u001b[0;34m\u001b[0m\u001b[0m\n\u001b[0m\u001b[1;32m    455\u001b[0m         \u001b[0;32mprint\u001b[0m\u001b[0;34m(\u001b[0m\u001b[0;34m\"Loading \"\u001b[0m \u001b[0;34m+\u001b[0m \u001b[0mf_gzipped_fastqfile\u001b[0m \u001b[0;34m+\u001b[0m \u001b[0;34m\" and \"\u001b[0m \u001b[0;34m+\u001b[0m \u001b[0mr_gzipped_fastqfile\u001b[0m \u001b[0;34m+\u001b[0m \u001b[0;34m\" and parsing\"\u001b[0m\u001b[0;34m)\u001b[0m\u001b[0;34m\u001b[0m\u001b[0m\n\u001b[1;32m    456\u001b[0m         \u001b[0;32mprint\u001b[0m\u001b[0;34m(\u001b[0m \u001b[0;34m\"Saving the combined forward and reverse sequencing tags as seqtag.txt\"\u001b[0m\u001b[0;34m)\u001b[0m\u001b[0;34m\u001b[0m\u001b[0m\n",
      "\u001b[0;31mOSError\u001b[0m: [Errno 2] No such file or directory: '~/volumes/xiaoyu/XYZ1/'"
     ]
    }
   ],
   "source": [
    "import BC\n",
    "BC.count(directory, f_gzipped_fastqfile, r_gzipped_fastqfile,\n",
    "      q = \"fastq\",\n",
    "      f_seqtag_length = 9,\n",
    "      r_seqtag_length = 9,\n",
    "      f_multitag_length = 6,\n",
    "      r_multitag_length = 6,\n",
    "      f_lintag_length = 32,\n",
    "      r_lintag_length = 30, \n",
    "      f_spacer_length = 24, #distance to first barcode in forward read (ignoring the length the thie multitag and the seqtag)\n",
    "      r_spacer_length = 33, #distance second barcode in reverse read (ignoring the length the thie multitag and the seqtag)\n",
    "      min_qs = 30, #the minimum avareage quality score for both lineage tags\n",
    "      lintag_grep_filter1 = lintag_grep_filter1, #first barcode\n",
    "      lintag_grep_filter2 = lintag_grep_filter2, #second barcode\n",
    "      clip_ends = 1, #logical of whether or not to clip the front and back ends off of lintag1 and lintag2\n",
    "      lintag1_front_clipper = lintag1_front_clipper, #only report lintag1 after this sequence\n",
    "      lintag2_front_clipper = lintag2_front_clipper, #only report lintag2 after this sequence\n",
    "      lintag1_rear_clipper = lintag1_rear_clipper, #only report lintag1 before this sequence, this must be the COMPLIMENT of the true sequence\n",
    "      lintag2_rear_clipper = lintag2_rear_clipper, #only report lintag2 before this sequence, this must be the COMPLIMENT of the true sequence\n",
    "      multitags = multitags, #concatenated multiplexing tags from the first and second reads that uniquely identify a sample, currently must have 2 or more multitags\n",
    "      write_multitags = True, #True will write multitags for all reads, otherwise only multitags for unmatched reads will be written\n",
    "      merged_output = False, #True will merge double barcodes into one barcode and treat these as single barcodes\n",
    "      cores = 12, #the number of processors\n",
    "      frequency_cutoff = 1) #clusters less than this number of reads under this cutoff will not be reported by bartendder"
   ]
  },
  {
   "cell_type": "code",
   "execution_count": 1,
   "metadata": {
    "collapsed": true
   },
   "outputs": [],
   "source": [
    "import sys\n",
    "sys.path.insert(1,'/Users/Zhimin/Dropbox/code/BC_zhimin/')"
   ]
  },
  {
   "cell_type": "code",
   "execution_count": 2,
   "metadata": {
    "collapsed": true
   },
   "outputs": [],
   "source": [
    "directory = \"/Users/Zhimin/Desktop/miseq_20171120/merged/\" #directory where files are read and saved\n",
    "f_gzipped_fastqfile = \"S01_S1_R1_001.fastq.gz\" #The forward reads, gzip file\n",
    "r_gzipped_fastqfile = \"S01_S1_R2_001.fastq.gz\" #The reverse reads, gzip file\n",
    "q = \"fastq\" #the type of fastq file coming off of the sequencer, what format are the quality scores?\n",
    "f_seqtag_length = 9 #the length of the sequencing tag on the first read (UMI1)\n",
    "r_seqtag_length = 9 #the length of the sequencing tag on the second read (UMI2)\n",
    "f_multitag_length = 6 #the length of the multiplexing tag on the first read\n",
    "r_multitag_length = 6 #the length of the multiplexing tag on the second read\n",
    "f_lintag_length = 32 #the length of the lineage tag on the first read (first barcode)\n",
    "r_lintag_length = 30 #the length of the lineage tag on the second read (second barcode)\n",
    "f_spacer_length = 24 #distance to first barcode in forward read, not including the multitag and the seqtag\n",
    "r_spacer_length = 33 #distance second barcode in reverse read, not including the multitag and the seqtag\n",
    "min_qs = 30 #the minimum avareage quality score for both lineage tags\n",
    "lintag_grep_filter1 ='\\D*?(.CCG|A.CG|AC.G|ACC.)\\D{19,21}?(.TTT|G.TT|GT.T|GTT.)\\D*' #first barcode\n",
    "lintag_grep_filter2 ='\\D*?(.AAC|A.AC|AA.C|AAA.)\\D{19,21}?(.AAA|C.AA|CA.A|CAA.)\\D*' #second barcode\n",
    "clip_ends = 0 #logical of whether or not to clip the front and back ends off of lintag1 and lintag2\n",
    "lintag1_front_clipper = '(.CCG|A.CG|AC.G|ACC.)' #only report lintag1 after this sequence\n",
    "lintag2_front_clipper = '(.AAC|A.AC|AA.C|AAA.)' #only report lintag2 after this sequence\n",
    "lintag1_rear_clipper = '(.TTG|T.TG|TT.G|TTT.)' #only report lintag1 before this sequence, this must be the REVERSE of the true sequence\n",
    "lintag2_rear_clipper = '(.AAC|A.AC|AA.C|AAA.)' #only report lintag2 before this sequence, this must be the REVERSE of the true sequence\n",
    "multitags = [\"TGACCATATATA\", \"TGACCACGCTCT\", \"TGACCAGAGACG\", \"TGACCAATACTG\", \"ACAGTGTATATA\", \"ACAGTGATACTG\", \"ACAGTGTGAGCT\"] #concatenated multiplexing tags from the first and second reads that uniquely identify a sample, currently must have 2 or more multitags\n",
    "write_multitags = True #True will write multitags for all reads, otherwise only multitags for unmatched reads will be written\n",
    "merged_output = True #True will merge double barcodes into one barcode and treat these as single barcodes\n",
    "cores = 12 #the number of processors\n",
    "frequency_cutoff = 1 #clusters less than this number of reads under this cutoff will not be reported by bartender"
   ]
  },
  {
   "cell_type": "code",
   "execution_count": 3,
   "metadata": {},
   "outputs": [
    {
     "name": "stdout",
     "output_type": "stream",
     "text": [
      "Loading S01_S1_R1_001.fastq.gz and S01_S1_R2_001.fastq.gz and parsing\n",
      "Saving the combined forward and reverse sequencing tags as seqtag.txt\n",
      "Saving the combined forward and reverse multiplexing tags  as multitag.txt\n",
      "Saving the first lineage tag as lintag1.txt\n",
      "Saving the first lineage tag as lintag2.txt\n",
      "13989502 out of 15446029 reads passed quality filters\n",
      "6138643 out of 15446029 did not match the barcode pattern\n",
      "7850859 out of 15446029 reads passed grep and quality filters\n",
      "159638 out of 15446029 reads passed grep and quality filters but did not match a multitag\n"
     ]
    }
   ],
   "source": [
    "import BC\n",
    "BC.count(directory, f_gzipped_fastqfile, r_gzipped_fastqfile,\n",
    "      q = \"fastq\",\n",
    "      f_seqtag_length = 9,\n",
    "      r_seqtag_length = 9,\n",
    "      f_multitag_length = 6,\n",
    "      r_multitag_length = 6,\n",
    "      f_lintag_length = 32,\n",
    "      r_lintag_length = 30, \n",
    "      f_spacer_length = 24, #distance to first barcode in forward read (ignoring the length the thie multitag and the seqtag)\n",
    "      r_spacer_length = 33, #distance second barcode in reverse read (ignoring the length the thie multitag and the seqtag)\n",
    "      min_qs = 30, #the minimum avareage quality score for both lineage tags\n",
    "      lintag_grep_filter1 = lintag_grep_filter1, #first barcode\n",
    "      lintag_grep_filter2 = lintag_grep_filter2, #second barcode\n",
    "      clip_ends = 1, #logical of whether or not to clip the front and back ends off of lintag1 and lintag2\n",
    "      lintag1_front_clipper = lintag1_front_clipper, #only report lintag1 after this sequence\n",
    "      lintag2_front_clipper = lintag2_front_clipper, #only report lintag2 after this sequence\n",
    "      lintag1_rear_clipper = lintag1_rear_clipper, #only report lintag1 before this sequence, this must be the COMPLIMENT of the true sequence\n",
    "      lintag2_rear_clipper = lintag2_rear_clipper, #only report lintag2 before this sequence, this must be the COMPLIMENT of the true sequence\n",
    "      multitags = multitags, #concatenated multiplexing tags from the first and second reads that uniquely identify a sample, currently must have 2 or more multitags\n",
    "      write_multitags = True, #True will write multitags for all reads, otherwise only multitags for unmatched reads will be written\n",
    "      merged_output = True, #True will merge double barcodes into one barcode and treat these as single barcodes\n",
    "      cores = 12, #the number of processors\n",
    "      frequency_cutoff = 1) #clusters less than this number of reads under this cutoff will not be reported by bartendder"
   ]
  },
  {
   "cell_type": "code",
   "execution_count": null,
   "metadata": {
    "collapsed": true
   },
   "outputs": [],
   "source": []
  }
 ],
 "metadata": {
  "kernelspec": {
   "display_name": "Python 2",
   "language": "python",
   "name": "python2"
  },
  "language_info": {
   "codemirror_mode": {
    "name": "ipython",
    "version": 2
   },
   "file_extension": ".py",
   "mimetype": "text/x-python",
   "name": "python",
   "nbconvert_exporter": "python",
   "pygments_lexer": "ipython2",
   "version": "2.7.14"
  }
 },
 "nbformat": 4,
 "nbformat_minor": 2
}
