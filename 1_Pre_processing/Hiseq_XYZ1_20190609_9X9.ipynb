{
 "cells": [
  {
   "cell_type": "code",
   "execution_count": null,
   "metadata": {},
   "outputs": [],
   "source": [
    "import sys\n",
    "sys.path.insert(1,'/Users/xiaoyuzhao/Dropbox/code/')"
   ]
  },
  {
   "cell_type": "code",
   "execution_count": null,
   "metadata": {},
   "outputs": [],
   "source": [
    "multitags = [\"ACAGTGTATATA\",\"ACAGTGCGCTCT\",\"ACAGTGGAGACG\",\"ACAGTGATACTG\",\"ACAGTGACTAGC\",\"ACAGTGTGAGCT\",\n",
    "             \"TGACCATATATA\",\"TGACCACGCTCT\",\"TGACCAGAGACG\",\"TGACCAATACTG\",\"TGACCAACTAGC\",\"TGACCATGAGCT\",\n",
    "             \"GCCAATTATATA\",\"GCCAATCGCTCT\",\"GCCAATGAGACG\",\"GCCAATATACTG\",\"GCCAATACTAGC\",\"GCCAATTGAGCT\",\n",
    "             \"ATCACGTATATA\",\"ATCACGCGCTCT\",\"ATCACGGAGACG\",\"ATCACGATACTG\",\"ATCACGACTAGC\",\"ATCACGTGAGCT\",\n",
    "             \"GGCTACTATATA\",\"GGCTACCGCTCT\",\"GGCTACGAGACG\",\"GGCTACATACTG\",\"GGCTACACTAGC\",\"GGCTACTGAGCT\",\n",
    "             \"TAGCTTTATATA\",\"TAGCTTCGCTCT\",\"TAGCTTGAGACG\",\"TAGCTTATACTG\",\"TAGCTTACTAGC\",\"TAGCTTTGAGCT\",\n",
    "             \"ACGTCTTATATA\",\"ACGTCTCGCTCT\",\"ACGTCTGAGACG\",\"ACGTCTATACTG\",\"ACGTCTACTAGC\",\"ACGTCTTGAGCT\",\n",
    "            ] #concatenated multiplexing tags from the first and second reads that uniquely identify a sample, currently must have 2 or more multitags\n"
   ]
  },
  {
   "cell_type": "code",
   "execution_count": null,
   "metadata": {},
   "outputs": [],
   "source": [
    "directory = \"/Volumes/zmliu_02/XYZ20180607/raw_data/XYZ_0424/\"#directory where files are read and saved\n",
    "f_gzipped_fastqfile = \"XYZ_0424_USPD16098369_H23FFBBXX_L7_1.fq.gz\" #The forward reads, gzip file\n",
    "r_gzipped_fastqfile = \"XYZ_0424_USPD16098369_H23FFBBXX_L7_2.fq.gz\" #The reverse reads, gzip file\n",
    "q = \"fastq\" #the type of fastq file coming off of the sequencer, what format are the quality scores?\n",
    "f_seqtag_length = 9 #the length of the sequencing tag on the first read (UMI1)\n",
    "r_seqtag_length = 9 #the length of the sequencing tag on the second read (UMI2)\n",
    "f_multitag_length = 6 #the length of the multiplexing tag on the first read\n",
    "r_multitag_length = 6 #the length of the multiplexing tag on the second read\n",
    "f_lintag_length = 32 #the length of the lineage tag on the first read (first barcode)\n",
    "r_lintag_length = 30 #the length of the lineage tag on the second read (second barcode)\n",
    "f_spacer_length = 24 #distance to first barcode in forward read, not including the multitag and the seqtag\n",
    "r_spacer_length = 33 #distance second barcode in reverse read, not including the multitag and the seqtag\n",
    "min_qs = 30 #the minimum avareage quality score for both lineage tags\n",
    "lintag_grep_filter1 ='\\D*?(.CCG|A.CG|AC.G|ACC.)\\D{19,21}?(.TTT|G.TT|GT.T|GTT.)\\D*' #first barcode\n",
    "lintag_grep_filter2 ='\\D*?(.AAC|A.AC|AA.C|AAA.)\\D{19,21}?(.AAA|C.AA|CA.A|CAA.)\\D*' #second barcode\n",
    "clip_ends = 0 #logical of whether or not to clip the front and back ends off of lintag1 and lintag2\n",
    "lintag1_front_clipper = '(.CCG|A.CG|AC.G|ACC.)' #only report lintag1 after this sequence\n",
    "lintag2_front_clipper = '(.AAC|A.AC|AA.C|AAA.)' #only report lintag2 after this sequence\n",
    "lintag1_rear_clipper = '(.TTG|T.TG|TT.G|TTT.)' #only report lintag1 before this sequence, this must be the REVERSE of the true sequence\n",
    "lintag2_rear_clipper = '(.AAC|A.AC|AA.C|AAA.)' #only report lintag2 before this sequence, this must be the REVERSE of the true sequence\n",
    "#multitags = [\"TGACCAATACTG\", \"ACAGTGTATATA\", \"ACAGTGCGCTCT\", \"ACAGTGGAGACG\", \"ACAGTGATACTG\", \"ACAGTGACTAGC\", \"TGACCATATATA\",\"TGACCACGCTCT\",\"TGACCAGAGACG\",\"ATCACGATACTG\",\"ATCACGACTAGC\",\"TAGCTTTGAGCT\"] #concatenated multiplexing tags from the first and second reads that uniquely identify a sample, currently must have 2 or more multitags\n",
    "write_multitags = True #True will write multitags for all reads, otherwise only multitags for unmatched reads will be written\n",
    "merged_output = False #True will merge double barcodes into one barcode and treat these as single barcodes\n",
    "cores = 12 #the number of processors\n",
    "frequency_cutoff = 1 #clusters less than this number of reads under this cutoff will not be reported by bartender"
   ]
  },
  {
   "cell_type": "code",
   "execution_count": null,
   "metadata": {},
   "outputs": [],
   "source": [
    "import BC\n",
    "BC.count(directory, f_gzipped_fastqfile, r_gzipped_fastqfile,\n",
    "      q = \"fastq\",\n",
    "      f_seqtag_length = 9,\n",
    "      r_seqtag_length = 9,\n",
    "      f_multitag_length = 6,\n",
    "      r_multitag_length = 6,\n",
    "      f_lintag_length = 32,\n",
    "      r_lintag_length = 30, \n",
    "      f_spacer_length = 24, #distance to first barcode in forward read (ignoring the length the thie multitag and the seqtag)\n",
    "      r_spacer_length = 33, #distance second barcode in reverse read (ignoring the length the thie multitag and the seqtag)\n",
    "      min_qs = 30, #the minimum avareage quality score for both lineage tags\n",
    "      lintag_grep_filter1 = lintag_grep_filter1, #first barcode\n",
    "      lintag_grep_filter2 = lintag_grep_filter2, #second barcode\n",
    "      clip_ends = 1, #logical of whether or not to clip the front and back ends off of lintag1 and lintag2\n",
    "      lintag1_front_clipper = lintag1_front_clipper, #only report lintag1 after this sequence\n",
    "      lintag2_front_clipper = lintag2_front_clipper, #only report lintag2 after this sequence\n",
    "      lintag1_rear_clipper = lintag1_rear_clipper, #only report lintag1 before this sequence, this must be the COMPLIMENT of the true sequence\n",
    "      lintag2_rear_clipper = lintag2_rear_clipper, #only report lintag2 before this sequence, this must be the COMPLIMENT of the true sequence\n",
    "      multitags = multitags, #concatenated multiplexing tags from the first and second reads that uniquely identify a sample, currently must have 2 or more multitags\n",
    "      write_multitags = True, #True will write multitags for all reads, otherwise only multitags for unmatched reads will be written\n",
    "      merged_output = False, #True will merge double barcodes into one barcode and treat these as single barcodes\n",
    "      cores = 12, #the number of processors\n",
    "      frequency_cutoff = 1) #clusters less than this number of reads under this cutoff will not be reported by bartendder"
   ]
  }
 ],
 "metadata": {
  "kernelspec": {
   "display_name": "env-python2.7",
   "language": "python",
   "name": "python2.7"
  },
  "language_info": {
   "codemirror_mode": {
    "name": "ipython",
    "version": 2
   },
   "file_extension": ".py",
   "mimetype": "text/x-python",
   "name": "python",
   "nbconvert_exporter": "python",
   "pygments_lexer": "ipython2",
   "version": "2.7.16"
  }
 },
 "nbformat": 4,
 "nbformat_minor": 2
}
